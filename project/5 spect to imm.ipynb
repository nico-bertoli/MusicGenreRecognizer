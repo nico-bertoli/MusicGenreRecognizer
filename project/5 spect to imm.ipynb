{
 "cells": [
  {
   "cell_type": "code",
   "execution_count": 1,
   "metadata": {},
   "outputs": [],
   "source": [
    "import matplotlib.pyplot as plt\n",
    "import numpy as np\n",
    "\n",
    "import librosa\n",
    "import librosa.display\n",
    "import IPython.display as ipd"
   ]
  },
  {
   "cell_type": "code",
   "execution_count": 2,
   "metadata": {},
   "outputs": [],
   "source": [
    "    H_IMMAGINI = 5      #5\n",
    "    L_IMMAGINI = 5      #5\n",
    "\n",
    "    N_FILES = 74              #74\n",
    "    N_IMAGES_FOR_FILE = 100\n",
    "\n",
    "    INPUT_FOLDER = '3spectrs_raw'\n",
    "    OUTPUT_FOLDER = '4immagini'\n",
    "\n",
    "    GENERI = ['pp']                   \n",
    "\n",
    "    FRAME_SIZE = 2048\n",
    "    HOP_SIZE = 512\n",
    "    SR = 22050          #(i assume the same sample rate for all files)"
   ]
  },
  {
   "cell_type": "code",
   "execution_count": 3,
   "metadata": {},
   "outputs": [
    {
     "output_type": "stream",
     "name": "stdout",
     "text": [
      "pp\n"
     ]
    }
   ],
   "source": [
    "print(GENERI[0])"
   ]
  },
  {
   "cell_type": "code",
   "execution_count": 4,
   "metadata": {},
   "outputs": [],
   "source": [
    "#====================================================\n",
    "#   ANALISI spettrogrammi input\n",
    "#===================================================="
   ]
  },
  {
   "cell_type": "code",
   "execution_count": 5,
   "metadata": {},
   "outputs": [
    {
     "output_type": "stream",
     "name": "stdout",
     "text": [
      "larghezza immagini:646\naltezza immagini:1025\n\nho 74 file, ciascuno di queti contiene 100 immagini\nogni singola immagine contiene valori di tipo: float32\n"
     ]
    }
   ],
   "source": [
    "analizza = np.load(f'{INPUT_FOLDER}/{GENERI[0]}/{GENERI[0]}0.npy')\n",
    "img_height=analizza.shape[1]\n",
    "img_width=analizza.shape[2]\n",
    "\n",
    "print('larghezza immagini:'+str(img_width))\n",
    "print('altezza immagini:'+str(img_height))\n",
    "\n",
    "print(f'\\nho {N_FILES} file, ciascuno di queti contiene {N_IMAGES_FOR_FILE} immagini')\n",
    "print(f'ogni singola immagine contiene valori di tipo: {analizza[0].dtype}')\n",
    "\n",
    "del(analizza)"
   ]
  },
  {
   "cell_type": "code",
   "execution_count": 6,
   "metadata": {},
   "outputs": [],
   "source": [
    "#============================================================\n",
    "#       TEST SULLE MAGINI CHE SI OTTENGONO\n",
    "#============================================================"
   ]
  },
  {
   "cell_type": "code",
   "execution_count": 7,
   "metadata": {},
   "outputs": [],
   "source": [
    "if False:\n",
    "    genere = np.load(f'{INPUT_FOLDER}/{GENERI[0]}/{GENERI[0]}14.npy')\n",
    "\n",
    "    fig = plt.figure(figsize=(L_IMMAGINI,H_IMMAGINI),frameon=False)\n",
    "    ax = plt.gca()\n",
    "    ax.axis('off')\n",
    "    librosa.display.specshow(genere[0], \n",
    "                            sr=SR, \n",
    "                            cmap='gray_r',      #immagine in b e w\n",
    "                            hop_length=HOP_SIZE, \n",
    "                            y_axis='log')\n",
    "    plt.savefig(f'{OUTPUT_FOLDER}/test/{L_IMMAGINI}-{H_IMMAGINI}', bbox_inches='tight',pad_inches = 0)"
   ]
  },
  {
   "cell_type": "code",
   "execution_count": 8,
   "metadata": {},
   "outputs": [],
   "source": [
    "#============================================================\n",
    "#       CONVERSIONE AD IMMAGINI DI SPETTROGRAMMI LOGARITMICI\n",
    "#============================================================"
   ]
  },
  {
   "cell_type": "code",
   "execution_count": 9,
   "metadata": {},
   "outputs": [
    {
     "output_type": "stream",
     "name": "stdout",
     "text": [
      "pp\n",
      "chunk0\n",
      "C:\\Users\\nicob\\anaconda3\\lib\\site-packages\\librosa\\display.py:974: MatplotlibDeprecationWarning: The 'basey' parameter of __init__() has been renamed 'base' since Matplotlib 3.3; support for the old name will be dropped two minor releases later.\n",
      "  scaler(mode, **kwargs)\n",
      "C:\\Users\\nicob\\anaconda3\\lib\\site-packages\\librosa\\display.py:974: MatplotlibDeprecationWarning: The 'linthreshy' parameter of __init__() has been renamed 'linthresh' since Matplotlib 3.3; support for the old name will be dropped two minor releases later.\n",
      "  scaler(mode, **kwargs)\n",
      "C:\\Users\\nicob\\anaconda3\\lib\\site-packages\\librosa\\display.py:974: MatplotlibDeprecationWarning: The 'linscaley' parameter of __init__() has been renamed 'linscale' since Matplotlib 3.3; support for the old name will be dropped two minor releases later.\n",
      "  scaler(mode, **kwargs)\n",
      "chunk1\n",
      "chunk2\n",
      "chunk3\n",
      "chunk4\n",
      "chunk5\n",
      "chunk6\n",
      "chunk7\n",
      "chunk8\n",
      "chunk9\n",
      "chunk10\n",
      "chunk11\n",
      "chunk12\n",
      "chunk13\n",
      "chunk14\n",
      "chunk15\n",
      "chunk16\n",
      "chunk17\n",
      "chunk18\n",
      "chunk19\n",
      "chunk20\n",
      "chunk21\n",
      "chunk22\n",
      "chunk23\n",
      "chunk24\n",
      "chunk25\n",
      "chunk26\n",
      "chunk27\n",
      "chunk28\n",
      "chunk29\n",
      "chunk30\n",
      "chunk31\n",
      "chunk32\n",
      "chunk33\n",
      "chunk34\n",
      "chunk35\n",
      "chunk36\n",
      "chunk37\n",
      "chunk38\n",
      "chunk39\n",
      "chunk40\n",
      "chunk41\n",
      "chunk42\n",
      "chunk43\n",
      "chunk44\n",
      "chunk45\n",
      "chunk46\n",
      "chunk47\n",
      "chunk48\n",
      "chunk49\n",
      "chunk50\n",
      "chunk51\n",
      "chunk52\n",
      "chunk53\n",
      "chunk54\n",
      "chunk55\n",
      "chunk56\n",
      "chunk57\n",
      "chunk58\n",
      "chunk59\n",
      "chunk60\n",
      "chunk61\n",
      "chunk62\n",
      "chunk63\n",
      "chunk64\n",
      "chunk65\n",
      "chunk66\n",
      "chunk67\n",
      "chunk68\n",
      "chunk69\n",
      "chunk70\n",
      "chunk71\n",
      "chunk72\n",
      "chunk73\n"
     ]
    }
   ],
   "source": [
    "\n",
    "for n_genere in range(len(GENERI)):\n",
    "    print(GENERI[n_genere])\n",
    "    i=0\n",
    "    for n_chunk in range(N_FILES):\n",
    "        print(f'chunk{n_chunk}')\n",
    "        chunk = np.load(f'{INPUT_FOLDER}/{GENERI[n_genere]}/{GENERI[n_genere]}{n_chunk}.npy')\n",
    "            \n",
    "        for immagine in chunk:\n",
    "            fig = plt.figure(figsize=(L_IMMAGINI,H_IMMAGINI),frameon=False)\n",
    "            ax = plt.gca()\n",
    "            ax.axis('off')\n",
    "            librosa.display.specshow(immagine, \n",
    "                        sr=SR, \n",
    "                        cmap='gray_r',           #immagine in b e w\n",
    "                        hop_length=HOP_SIZE, \n",
    "                        y_axis='log')\n",
    "            plt.savefig(f'{OUTPUT_FOLDER}/{GENERI[n_genere]}/{i}', bbox_inches='tight',pad_inches = 0)\n",
    "            i+=1\n",
    "\n",
    "            #clearing ram\n",
    "            fig.clear()\n",
    "            plt.close(fig)\n",
    "\n",
    "        del(chunk)"
   ]
  },
  {
   "cell_type": "code",
   "execution_count": 10,
   "metadata": {},
   "outputs": [
    {
     "output_type": "stream",
     "name": "stdout",
     "text": [
      "DONE\n"
     ]
    }
   ],
   "source": [
    "print('DONE')"
   ]
  }
 ],
 "metadata": {
  "kernelspec": {
   "name": "python3",
   "display_name": "Python 3",
   "language": "python"
  },
  "language_info": {
   "codemirror_mode": {
    "name": "ipython",
    "version": 3
   },
   "file_extension": ".py",
   "mimetype": "text/x-python",
   "name": "python",
   "nbconvert_exporter": "python",
   "pygments_lexer": "ipython3",
   "version": "3.8.5-final"
  }
 },
 "nbformat": 4,
 "nbformat_minor": 2
}