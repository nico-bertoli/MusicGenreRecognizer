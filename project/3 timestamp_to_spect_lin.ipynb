{
 "cells": [
  {
   "cell_type": "code",
   "execution_count": null,
   "metadata": {},
   "outputs": [],
   "source": [
    "import os\n",
    "import numpy\n",
    "import librosa\n",
    "import librosa.display\n",
    "import IPython.display as ipd\n",
    "import numpy as np\n",
    "import matplotlib.pyplot as plt\n",
    "import pandas as pd\n",
    "import tensorflow as tf\n",
    "from tensorflow import keras"
   ]
  },
  {
   "cell_type": "code",
   "execution_count": null,
   "metadata": {},
   "outputs": [],
   "source": [
    "    GENERE = 'pp'\n",
    "\n",
    "    TIMESTAMP_LOCATION = '2timestamps/'+GENERE+'/'\n",
    "    OUTPUT_LOCATION = '3spectrs_raw/'+GENERE+'/'+GENERE\n",
    "\n",
    "\n",
    "\n",
    "    OUTPUT_CHUNKS_SIZE = 100\n",
    "    N_INPUT_FILES = 7400        #3700\n",
    "\n",
    "\n",
    "\n",
    "    FRAME_SIZE = 2048\n",
    "    HOP_SIZE = 512\n",
    "    sr = 22050"
   ]
  },
  {
   "cell_type": "code",
   "execution_count": null,
   "metadata": {},
   "outputs": [],
   "source": [
    "#---------------------------------------------------------------------------------------GET S_SCALE\n",
    "#   ESTRAZIONE SHORT TIME FOURIER TRANSFORM (S_scale???) per ogni audio\n",
    "#il risultato e' un array bidimensionale (frequenza-numero di frames con quella frequenza)\n",
    "\n",
    "def getSScales(audios):\n",
    "    S_scale = []\n",
    "    for x in audios:\n",
    "        S_scale.append(librosa.stft(x, n_fft=FRAME_SIZE, hop_length=HOP_SIZE))\n",
    "    return S_scale\n",
    "\n",
    "#---------------------------------------------------------------------------------------GET Y_SCALE\n",
    "#ESTRAZIONE SPETTROGRAMMA\n",
    "# output: lista di float \n",
    "def getYScale(SScale):\n",
    "    Y_scale = []\n",
    "    for x in SScale:\n",
    "        Y_scale.append(np.abs(x) ** 2)\n",
    "        #print(Y_scale.shape)\n",
    "        #print(type(Y_scale[0][0]))\n",
    "    return Y_scale\n",
    "#---------------------------------------------------------------------------------------GET Y LOG SCALE\n",
    "#input -> lista, output -> numpy array\n",
    "def getYLogScale(YScale):\n",
    "    Y_log_scale = []\n",
    "    for x in YScale:\n",
    "        Y_log_scale.append(librosa.power_to_db(x))\n",
    "        # np.concatenate((Y_log_scale,librosa.power_to_db(x)))\n",
    "        # Y_log_scale.append(librosa.power_to_db(x))\n",
    "    return Y_log_scale\n",
    "#---------------------------------------------------------------------------------------GET Y LOG SCALE FROM AUDIO \n",
    "#riceve in input una lista di audio, e produce in output la relativa ylog scale\n",
    "def getYLogScaleFromAudio(audios):\n",
    "    S_scale = getSScales(audios)\n",
    "    Yscale = getYScale(S_scale)\n",
    "    YLogScale = getYLogScale(Yscale)\n",
    "    YLogScale = numpy.array(YLogScale[0:len(audios)])   #se va tenere questo\n",
    "    # YLogScale = numpy.array(YLogScale[0:len(audios)-1])\n",
    "    # YLogScale = numpy.array(YLogScale[0:NFILES-1])\n",
    "\n",
    "    return YLogScale\n",
    "#-------------------------------------------------------------------------------------VISUALIZZAZIONE DELLO SPETTROGRAMMA\n",
    "# def plot_spectrogram(Y, sr, hop_length, y_axis=\"linear\",title=\"\"):\n",
    "#     plt.figure(figsize=(25, 10))\n",
    "#     plt.title(title)\n",
    "#     librosa.display.specshow(Y, \n",
    "#                              sr=sr, \n",
    "#                              hop_length=hop_length, \n",
    "#                              x_axis=\"time\", \n",
    "#                              y_axis=y_axis)\n",
    "#     plt.colorbar(format=\"%+2.f\")\n"
   ]
  },
  {
   "cell_type": "code",
   "execution_count": null,
   "metadata": {
    "tags": []
   },
   "outputs": [],
   "source": [
    "for n_chunk in range (N_INPUT_FILES//OUTPUT_CHUNKS_SIZE):\n",
    "    ts_chunk = []   #timestamps chunk\n",
    "\n",
    "    for n_file in range(1,OUTPUT_CHUNKS_SIZE+1):\n",
    "\n",
    "        #carico il timestamp\n",
    "        # print('carico :'+TIMESTAMP_LOCATION+str(n_file+100*n_chunk))\n",
    "        timestamp = np.load(TIMESTAMP_LOCATION+str(n_file+100*n_chunk)+'.npy')\n",
    "\n",
    "        #lo aggiungo al chunk\n",
    "        ts_chunk.append(timestamp)\n",
    "    \n",
    "    #al termine converto il chunk di timestamps a spettrogrammi e lo salvo\n",
    "    spectrs_chunk = getYLogScaleFromAudio(ts_chunk)\n",
    "    np.save(OUTPUT_LOCATION+str(n_chunk),spectrs_chunk)\n",
    "    print(f'salvo il chunk {n_chunk}')"
   ]
  },
  {
   "cell_type": "code",
   "execution_count": null,
   "metadata": {},
   "outputs": [],
   "source": [
    "print('DONE')"
   ]
  }
 ],
 "metadata": {
  "kernelspec": {
   "name": "python3",
   "display_name": "Python 3",
   "language": "python"
  },
  "language_info": {
   "codemirror_mode": {
    "name": "ipython",
    "version": 3
   },
   "file_extension": ".py",
   "mimetype": "text/x-python",
   "name": "python",
   "nbconvert_exporter": "python",
   "pygments_lexer": "ipython3",
   "version": "3.8.5-final"
  }
 },
 "nbformat": 4,
 "nbformat_minor": 2
}